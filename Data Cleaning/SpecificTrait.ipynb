{
 "cells": [
  {
   "cell_type": "code",
   "execution_count": 1,
   "id": "6cb66d7c",
   "metadata": {},
   "outputs": [],
   "source": [
    "#import the correct packages\n",
    "import pandas as pd"
   ]
  },
  {
   "cell_type": "code",
   "execution_count": null,
   "id": "428cb214",
   "metadata": {},
   "outputs": [],
   "source": [
    "# read the csv file from your results. Change the path to YOUR results. \n",
    "data_run1_all = pd.read_csv(\"/Users/jstanton/Desktop/NS005_Sorghum.csv\")"
   ]
  },
  {
   "cell_type": "code",
   "execution_count": null,
   "id": "81f09700",
   "metadata": {},
   "outputs": [],
   "source": [
    "# read your barcode file, this will help you get readable data out\n",
    "run1_barcodes = pd.read_csv(\"/Users/jstanton/Desktop/ns_005_barcodes.csv\")"
   ]
  },
  {
   "cell_type": "code",
   "execution_count": null,
   "id": "da453e4f",
   "metadata": {},
   "outputs": [],
   "source": [
    "#get rid of all the extra columns that you don't need. Change this if there is something you are particulalry interested in. Otherwise, this will make your file much smaller. \n",
    "data_run1_all.drop(['camera','imgtype','zoom','exposure','gain','frame','lifter','id','treatment','velocity','cartag','measurementlabel','other','image','sample','rotation'], inplace=True, axis=1)"
   ]
  },
  {
   "cell_type": "code",
   "execution_count": null,
   "id": "39a3ba72",
   "metadata": {},
   "outputs": [],
   "source": [
    "#make sure the time is converted properly by making a new column called time2\n",
    "data_run1_all['time2'] = pd.to_datetime(data_run1_all['timestamp'])"
   ]
  },
  {
   "cell_type": "code",
   "execution_count": null,
   "id": "4028e320",
   "metadata": {},
   "outputs": [],
   "source": [
    "#take a look at the first few rows of data so that they contain what you are interested in\n",
    "data_run1_all.head()"
   ]
  },
  {
   "cell_type": "code",
   "execution_count": null,
   "id": "4a89f204",
   "metadata": {},
   "outputs": [],
   "source": [
    "#convert the time to just the date if you don't care when in the day the photo was taken.\n",
    "data_run1_all['date'] = data_run1_all['time2'].dt.date"
   ]
  },
  {
   "cell_type": "code",
   "execution_count": null,
   "id": "a7359657",
   "metadata": {},
   "outputs": [],
   "source": [
    "#get rid of your extra time columns\n",
    "data_run1_all.drop(['timestamp','time2'], inplace=True, axis=1)"
   ]
  },
  {
   "cell_type": "code",
   "execution_count": null,
   "id": "6b9d4dcb",
   "metadata": {},
   "outputs": [],
   "source": [
    "#take a look at the first few rows of data so that they contain what you are interested in\n",
    "data_run1_all.head()"
   ]
  },
  {
   "cell_type": "code",
   "execution_count": null,
   "id": "dca2297f",
   "metadata": {},
   "outputs": [],
   "source": [
    "# select rows containing height\n",
    "data_run1_height = data_run1_all[data_run1_all['trait'].str.contains('height_above_reference')]"
   ]
  },
  {
   "cell_type": "code",
   "execution_count": null,
   "id": "7ffee242",
   "metadata": {},
   "outputs": [],
   "source": [
    "#take a look at the first few rows of data so that they contain what you are interested in\n",
    "data_run1_height.head()"
   ]
  },
  {
   "cell_type": "code",
   "execution_count": null,
   "id": "43f0e04d",
   "metadata": {},
   "outputs": [],
   "source": [
    "#convert height in pixels ot height in cm. A chip on the color card in the plant image is 1.2 cm - yours is also 1.2 cm (NOT the giant color card. \n",
    "#For my images, the color chip size was 38 pixels (this depends on your zoom). You got this from your notebook and saved it for later in the tutorial, so refer back to\n",
    "#when you found color chip size for this pixel value! \n",
    "\n",
    "data_run1_height[\"height_cm\"] = data_run1_height[\"value\"] * 1.2/38"
   ]
  },
  {
   "cell_type": "code",
   "execution_count": null,
   "id": "fce8b8a1",
   "metadata": {},
   "outputs": [],
   "source": [
    "#get rid of the extra columns, you only want height in cm\n",
    "\n",
    "data_run1_height.drop(['trait','value','label'], inplace=True, axis=1)"
   ]
  },
  {
   "cell_type": "code",
   "execution_count": null,
   "id": "dbf983ec",
   "metadata": {},
   "outputs": [],
   "source": [
    "#find the max height between the two side pictures of the same plant - you only want one height for the whole plant, so take the maximum one. \n",
    "#You can take average if you would like instead. This leaves you with a single measurement per plant per day. \n",
    "\n",
    "height = data_run1_height.groupby(['date','barcode'], as_index=False).max(['height_cm'])\n",
    "height.head()"
   ]
  },
  {
   "cell_type": "code",
   "execution_count": null,
   "id": "a38a2f56",
   "metadata": {},
   "outputs": [],
   "source": [
    "#check how big this dataframe is. Is it half the size it was before you took only the max height?\n",
    "len(height)"
   ]
  },
  {
   "cell_type": "code",
   "execution_count": null,
   "id": "47993b67",
   "metadata": {},
   "outputs": [],
   "source": [
    "#merge your data with your barcodes so that your data is properly labeled with genotype, treatment, etc.\n",
    "\n",
    "height_merge = pd.merge(height, run1_barcodes, how = \"left\", on = ['barcode'])"
   ]
  },
  {
   "cell_type": "code",
   "execution_count": null,
   "id": "2995e6e6",
   "metadata": {},
   "outputs": [],
   "source": [
    "#get rid of empty rows\n",
    "\n",
    "height_merge = height_merge.dropna(axis = 'rows')"
   ]
  },
  {
   "cell_type": "code",
   "execution_count": null,
   "id": "7a198461",
   "metadata": {},
   "outputs": [],
   "source": [
    "#take a look at the first few rows of data so that they contain what you are interested in\n",
    "\n",
    "height_merge.head()"
   ]
  },
  {
   "cell_type": "code",
   "execution_count": null,
   "id": "eb299f20",
   "metadata": {},
   "outputs": [],
   "source": [
    "#check the length again, it should be close to what it was before you got rid of empty rows. If not, something didn't merge properly\n",
    "\n",
    "len(height_merge)"
   ]
  },
  {
   "cell_type": "code",
   "execution_count": null,
   "id": "9ab495fb",
   "metadata": {},
   "outputs": [],
   "source": [
    "#save the resulting file to a csv for downstream analysis in R\n",
    "\n",
    "height_merge.to_csv('ns_005_heights.csv')"
   ]
  }
 ],
 "metadata": {
  "kernelspec": {
   "display_name": "Python [conda env:miniconda3-plantcv] *",
   "language": "python",
   "name": "conda-env-miniconda3-plantcv-py"
  },
  "language_info": {
   "codemirror_mode": {
    "name": "ipython",
    "version": 3
   },
   "file_extension": ".py",
   "mimetype": "text/x-python",
   "name": "python",
   "nbconvert_exporter": "python",
   "pygments_lexer": "ipython3",
   "version": "3.9.13"
  }
 },
 "nbformat": 4,
 "nbformat_minor": 5
}
